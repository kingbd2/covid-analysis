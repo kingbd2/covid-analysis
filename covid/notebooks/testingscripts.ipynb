{
 "cells": [
  {
   "cell_type": "code",
   "execution_count": 1,
   "metadata": {},
   "outputs": [],
   "source": [
    "import csv\n",
    "import requests\n",
    "import pandas as pd\n",
    "import numpy as np\n",
    "from bs4 import BeautifulSoup\n",
    "import sys\n",
    "import os\n",
    "from os import listdir\n",
    "from os.path import isfile, join\n",
    "from datetime import date, datetime"
   ]
  },
  {
   "cell_type": "code",
   "execution_count": 2,
   "metadata": {},
   "outputs": [
    {
     "data": {
      "text/plain": [
       "['timeseries', 'reference']"
      ]
     },
     "execution_count": 2,
     "metadata": {},
     "output_type": "execute_result"
    }
   ],
   "source": [
    "os.listdir('../data')"
   ]
  },
  {
   "cell_type": "code",
   "execution_count": 3,
   "metadata": {},
   "outputs": [],
   "source": [
    "mypath='/'"
   ]
  },
  {
   "cell_type": "code",
   "execution_count": 4,
   "metadata": {},
   "outputs": [],
   "source": [
    "onlyfiles = [f for f in listdir(mypath) if isfile(join(mypath, f))]"
   ]
  },
  {
   "cell_type": "code",
   "execution_count": 5,
   "metadata": {},
   "outputs": [
    {
     "data": {
      "text/plain": [
       "['core',\n",
       " 'vmlinuz.old',\n",
       " 'copyright',\n",
       " '.zshrc',\n",
       " '.profile',\n",
       " '.mkshrc',\n",
       " '.bash_profile',\n",
       " 'initrd.img',\n",
       " '.zlogin',\n",
       " 'openbdg',\n",
       " 'initrd.img.old',\n",
       " 'vmlinuz',\n",
       " '.bashrc']"
      ]
     },
     "execution_count": 5,
     "metadata": {},
     "output_type": "execute_result"
    }
   ],
   "source": [
    "onlyfiles"
   ]
  },
  {
   "cell_type": "code",
   "execution_count": 6,
   "metadata": {},
   "outputs": [],
   "source": [
    "BASE_DIR = os.path.dirname(os.path.dirname(os.path.abspath(os.path.abspath(''))))\n",
    "timeseries_combined_data_path = os.path.join(BASE_DIR, 'covid/data/timeseries/daily_combined')\n",
    "timeseries_split_data_path = os.path.join(BASE_DIR, 'covid/data/timeseries/daily_split')"
   ]
  },
  {
   "cell_type": "code",
   "execution_count": 7,
   "metadata": {},
   "outputs": [
    {
     "name": "stdout",
     "output_type": "stream",
     "text": [
      "/home/bking/Projects/poetry/covid/covid/data/timeseries/daily_combined /home/bking/Projects/poetry/covid/covid/data/timeseries/daily_split\n"
     ]
    }
   ],
   "source": [
    "print(timeseries_combined_data_path, timeseries_split_data_path)\n"
   ]
  },
  {
   "cell_type": "code",
   "execution_count": 8,
   "metadata": {},
   "outputs": [
    {
     "data": {
      "text/plain": [
       "'2020-04-10'"
      ]
     },
     "execution_count": 8,
     "metadata": {},
     "output_type": "execute_result"
    }
   ],
   "source": [
    "today = str(date.today())\n",
    "today"
   ]
  },
  {
   "cell_type": "code",
   "execution_count": 9,
   "metadata": {},
   "outputs": [],
   "source": [
    "timeseries_combined_files = [f for f in listdir(timeseries_combined_data_path) if isfile(join(timeseries_combined_data_path, f))]\n",
    "timeseries_split_files = [f for f in listdir(timeseries_split_data_path) if isfile(join(timeseries_split_data_path, f))]"
   ]
  },
  {
   "cell_type": "code",
   "execution_count": 10,
   "metadata": {},
   "outputs": [
    {
     "data": {
      "text/plain": [
       "['2020-04-07recovered.csv',\n",
       " '2020-04-07deaths.csv',\n",
       " '2020-03-24recovered.csv',\n",
       " '2020-03-24deaths.csv',\n",
       " '2020-04-07confirmed.csv',\n",
       " '2020-03-24confirmed.csv']"
      ]
     },
     "execution_count": 10,
     "metadata": {},
     "output_type": "execute_result"
    }
   ],
   "source": [
    "timeseries_split_files"
   ]
  },
  {
   "cell_type": "code",
   "execution_count": 11,
   "metadata": {},
   "outputs": [],
   "source": [
    "def getLatestDateFromFiles(file_list: list):\n",
    "    date_list=[]\n",
    "    for file in file_list:\n",
    "        date_list.append(datetime.strptime(file[0:10], '%Y-%m-%d').date())\n",
    "    return str(max(date_list))"
   ]
  },
  {
   "cell_type": "code",
   "execution_count": 12,
   "metadata": {},
   "outputs": [
    {
     "data": {
      "text/plain": [
       "'2020-04-07'"
      ]
     },
     "execution_count": 12,
     "metadata": {},
     "output_type": "execute_result"
    }
   ],
   "source": [
    "getLatestDateFromFiles(timeseries_split_files)"
   ]
  },
  {
   "cell_type": "code",
   "execution_count": null,
   "metadata": {},
   "outputs": [],
   "source": []
  }
 ],
 "metadata": {
  "kernelspec": {
   "display_name": "Python 3",
   "language": "python",
   "name": "python3"
  },
  "language_info": {
   "codemirror_mode": {
    "name": "ipython",
    "version": 3
   },
   "file_extension": ".py",
   "mimetype": "text/x-python",
   "name": "python",
   "nbconvert_exporter": "python",
   "pygments_lexer": "ipython3",
   "version": "3.7.4"
  }
 },
 "nbformat": 4,
 "nbformat_minor": 4
}
